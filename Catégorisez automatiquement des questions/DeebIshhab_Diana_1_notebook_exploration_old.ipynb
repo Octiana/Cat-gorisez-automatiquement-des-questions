{
 "cells": [
  {
   "cell_type": "markdown",
   "id": "0318c322",
   "metadata": {},
   "source": [
    "# Catégorisez automatiquement des questions - Stack Overflow\n",
    "\n",
    "#### Objectif: \n",
    "Développement d'un système de suggestion de tags via une API pour facilité la recherche aux utilisateurs sur le site Stack Overflow. Celui-ci prendra la forme d’un algorithme de machine learning qui assignera automatiquement plusieurs tags pertinents à une question.\n",
    "\n",
    "\n",
    "Dans ce notebook:\n",
    "\n",
    "- Récupération des données sur le site StackExchange\n",
    "- Analyse univariée\n",
    "- Analyse multivariée\n",
    "- Réduction dimensionnelle \n",
    "- Différentes questions de recherche associées\n",
    "\n",
    "### Sommaire\n",
    "\n",
    "* [Import](#chapter1)\n",
    "    * [Fichiers](#section_1_1)\n",
    "    * [Librairies](#section_1_2)    \n",
    "    * [Nos Données](#section_1_3)\n",
    "    \n",
    "* [Nettoyage](#chapter2)\n",
    "    * [Valeurs manquantes](#section_2_1)\n",
    "    * [](#section_1_2) \n",
    "    * [\n",
    "    \n",
    "    \n",
    "* [Analyse exploratoire](#chapter3)\n",
    "    * [Analyse univariée](#section_3_1)\n",
    "        * [Variables quantitatives](#section_3_1_1)\n",
    "        * [Variables qualitatives](#section_3_1_2)\n",
    "    * [Analyse multivariée](#section_3_2) \n",
    "        * [Variables quantitatives](#section_3_2_1)\n",
    "        * [Variables quantitatives et qualitatives](#section_3_2_2)\n",
    "    \n",
    "    \n",
    "* [Traitement des données](#chapter4)\n",
    "    * [](#section_4_1)\n",
    "    * [](#section_4_2)    \n",
    "    * [](#section_4_3)"
   ]
  },
  {
   "cell_type": "markdown",
   "id": "270080c6",
   "metadata": {},
   "source": [
    "## Import <a class=\"anchor\" id=\"chapter1\"></a>\n",
    "### Import des fichiers <a class=\"anchor\" id=\"section_1_1\"></a>"
   ]
  },
  {
   "cell_type": "markdown",
   "id": "b1dcf4b9",
   "metadata": {},
   "source": [
    "#### Récupération des données sur le site StackExchange\n",
    "\n",
    "Remarque: On peut charger au maximum 50 000 entrées/ requête SQL\n",
    "Période: 2020-01-01 à 2022-09-30"
   ]
  },
  {
   "cell_type": "markdown",
   "id": "85ebd5b6",
   "metadata": {},
   "source": [
    "#### Code SQL utilisé\n",
    "\n",
    "SELECT TOP(50000) Id, CreationDate, Score, ViewCount, AnswerCount, CommentCount, FavoriteCount, Title, Body, Tags\n",
    "\n",
    "FROM Posts\n",
    "\n",
    "WHERE CreationDate BETWEEN CONVERT(datetime, 'YYYY-MM-DD HH:MM:SS') AND CONVERT(datetime, 'YYYY-MM-DD HH:MM:SS')\n",
    "\n",
    "AND Score IS NOT NULL\n",
    "\n",
    "AND ViewCount IS NOT NULL\n",
    "\n",
    "AND AnswerCount IS NOT NULL\n",
    "\n",
    "AND CommentCount IS NOT NULL\n",
    "\n",
    "AND FavoriteCount IS NOT NULL\n",
    "\n",
    "ORDER BY CreationDate"
   ]
  },
  {
   "cell_type": "markdown",
   "id": "13c107d8",
   "metadata": {},
   "source": [
    "Les fichiers:\n",
    "\n",
    "\n",
    "F0  \n",
    "2020-01-01 00:01:28  \n",
    "2020-03-08 15:57:08\n",
    "\n",
    "F1  \n",
    "2020-03-08 15:57:08  \n",
    "2020-05-15 11:22:54\n",
    "\n",
    "F2  \n",
    "2020-05-15 11:22:54  \n",
    "2020-07-22 12:10:14\n",
    "\n",
    "F3  \n",
    "2020-07-22 12:10:14  \n",
    "2020-10-15 15:01:43\n",
    "\n",
    "F4  \n",
    "2020-10-15 15:01:43  \n",
    "2021-01-16 20:25:37\n",
    "\n",
    "F5  \n",
    "2021-01-16 20:25:37  \n",
    "2021-04-23 11:09:19\n",
    "\n",
    "F6  \n",
    "2021-04-23 11:09:19  \n",
    "2021-08-21 09:02:22\n",
    "\n",
    "F7  \n",
    "2021-08-21 09:02:22  \n",
    "2022-01-02 21:44:46\n",
    "\n",
    "F8  \n",
    "2022-01-02 21:44:46  \n",
    "2022-05-23 06:06:34\n",
    "\n",
    "F9  \n",
    "2022-05-23 06:06:34  \n",
    "2022-09-29 23:53:45"
   ]
  },
  {
   "cell_type": "markdown",
   "id": "00b875ad",
   "metadata": {},
   "source": [
    "### Import des librairies <a class=\"anchor\" id=\"section_1_2\"></a>"
   ]
  },
  {
   "cell_type": "code",
   "execution_count": null,
   "id": "f5e06590",
   "metadata": {},
   "outputs": [],
   "source": [
    "import os\n",
    "import warnings\n",
    "warnings.filterwarnings('ignore')\n",
    "import IPython.display\n",
    "\n",
    "import numpy as np\n",
    "import pandas as pd "
   ]
  },
  {
   "cell_type": "markdown",
   "id": "e616d089",
   "metadata": {},
   "source": [
    "#### Récuperation des fichiers de StackExchange"
   ]
  },
  {
   "cell_type": "code",
   "execution_count": null,
   "id": "591bafd4",
   "metadata": {},
   "outputs": [],
   "source": [
    "data = pd.read_csv(' ', low_memory = False)"
   ]
  },
  {
   "cell_type": "code",
   "execution_count": null,
   "id": "670d87f9",
   "metadata": {},
   "outputs": [],
   "source": [
    "print('### Data files ###')\n",
    "for idx, file in enumerate(os.listdir('./data')):\n",
    "    print(idx, '-', file)\n",
    "print('\\n' + '-' *50 +'\\n')\n",
    "\n",
    "data = pd.DataFrame()\n",
    "\n",
    "for idx, file in enumerate(os.listdir('./data')):\n",
    "    path = './data/' + file\n",
    "    df = pd.read_csv(path,\n",
    "                     index_col = 0,\n",
    "                     parse_dates=['CreationDate'],\n",
    "                     na_values = 'NaN'\n",
    "                    )\n",
    "        \n",
    "    data = pd.concat([data, df],\n",
    "                      axis=0)\n",
    "    \n",
    "na_body_idx = data[data['Body'].isna()==True].index\n",
    "data.drop(index = na_body_idx, inplace=True)\n",
    "data.sort_values('CreationDate', inplace=True)\n",
    "\n",
    "print(\"Dix premières valeurs du dataset\")\n",
    "display(data.head(10))\n",
    "\n",
    "print('\\n' + '-' *50 +'\\n')\n",
    "print(f\"Nombre d'observations: {data.shape[0]}, nombre de variables: {data.shape[1]}\")"
   ]
  },
  {
   "cell_type": "code",
   "execution_count": null,
   "id": "8a0368e2",
   "metadata": {},
   "outputs": [],
   "source": []
  }
 ],
 "metadata": {
  "kernelspec": {
   "display_name": "Python 3 (ipykernel)",
   "language": "python",
   "name": "python3"
  },
  "language_info": {
   "codemirror_mode": {
    "name": "ipython",
    "version": 3
   },
   "file_extension": ".py",
   "mimetype": "text/x-python",
   "name": "python",
   "nbconvert_exporter": "python",
   "pygments_lexer": "ipython3",
   "version": "3.9.13"
  }
 },
 "nbformat": 4,
 "nbformat_minor": 5
}
